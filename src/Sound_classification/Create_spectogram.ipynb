{
 "cells": [
  {
   "cell_type": "code",
   "execution_count": 1,
   "id": "987ab671-f116-41a0-8969-a0ab59f780bd",
   "metadata": {},
   "outputs": [],
   "source": [
    "import os\n",
    "import numpy as np\n",
    "import matplotlib.pyplot as plt\n",
    "import librosa\n",
    "import librosa.display\n",
    "import warnings"
   ]
  },
  {
   "cell_type": "code",
   "execution_count": 2,
   "id": "dcdf0205-5666-4be5-8ede-24efa2da6059",
   "metadata": {},
   "outputs": [],
   "source": [
    "input_folder = \"Short_clip\"  # Path to the folder with MP3 files\n",
    "output_folder = \"New_Spec\"  # Top-le folder for spectrograms\n",
    "\n",
    "# Suppress warnings globally\n",
    "warnings.filterwarnings(\"ignore\")\n",
    "\n",
    "# Create the top-level output directory if it doesn't exist\n",
    "os.makedirs(output_folder, exist_ok=True)"
   ]
  },
  {
   "cell_type": "code",
   "execution_count": 3,
   "id": "fa6af2d5-2a74-4017-8222-92810942d565",
   "metadata": {},
   "outputs": [
    {
     "name": "stdout",
     "output_type": "stream",
     "text": [
      "Finished processing folder: Short_clip\n",
      "Finished processing folder: Recurvirostra\n",
      "Finished processing folder: Phoenicurus\n",
      "Finished processing folder: Charadrius\n",
      "Finished processing folder: .ipynb_checkpoints\n"
     ]
    }
   ],
   "source": [
    "for root, dirs, files in os.walk(input_folder):\n",
    "    # Extract the category (bird name) from the folder name\n",
    "    category = os.path.basename(root)\n",
    "    for file in files:\n",
    "        if file.endswith(\".mp3\"):\n",
    "            try:\n",
    "                # Load the audio file\n",
    "                audio_path = os.path.join(root, file)\n",
    "                y, sr = librosa.load(audio_path, sr=None, mono=True, res_type='kaiser_fast', offset=0, duration=None)\n",
    "\n",
    "                # Generate a mel spectrogram\n",
    "                spectrogram = librosa.feature.melspectrogram(y=y, sr=sr)\n",
    "                spectrogram_db = librosa.power_to_db(spectrogram, ref=np.max)\n",
    "\n",
    "                # Save the spectrogram as an image in the category's folder\n",
    "                output_path = os.path.join(output_folder, category, os.path.splitext(file)[0] + \".png\")\n",
    "                os.makedirs(os.path.dirname(output_path), exist_ok=True)\n",
    "                plt.figure(figsize=(10, 4))\n",
    "                librosa.display.specshow(spectrogram_db, x_axis='time', y_axis='mel')\n",
    "                plt.colorbar(format='%+2.0f dB')\n",
    "                plt.title('Spectrogram')\n",
    "                plt.savefig(output_path, bbox_inches='tight')\n",
    "                plt.close()\n",
    "            except Exception as e:\n",
    "                print(f\"Error processing {file}: {e}\")\n",
    "\n",
    "    # Print a message when the folder is finished\n",
    "    print(f\"Finished processing folder: {category}\")"
   ]
  },
  {
   "cell_type": "code",
   "execution_count": null,
   "id": "e888b4e6-d2b6-42ce-94c8-6915706af0c2",
   "metadata": {},
   "outputs": [],
   "source": []
  }
 ],
 "metadata": {
  "kernelspec": {
   "display_name": "Python 3 (ipykernel)",
   "language": "python",
   "name": "python3"
  },
  "language_info": {
   "codemirror_mode": {
    "name": "ipython",
    "version": 3
   },
   "file_extension": ".py",
   "mimetype": "text/x-python",
   "name": "python",
   "nbconvert_exporter": "python",
   "pygments_lexer": "ipython3",
   "version": "3.11.0rc1"
  }
 },
 "nbformat": 4,
 "nbformat_minor": 5
}
