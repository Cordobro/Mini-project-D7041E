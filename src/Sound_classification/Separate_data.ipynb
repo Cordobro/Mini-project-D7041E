{
 "cells": [
  {
   "cell_type": "code",
   "execution_count": 5,
   "id": "3437d00b-132c-4b9c-92bd-32c02ce29873",
   "metadata": {},
   "outputs": [],
   "source": [
    "import os\n",
    "import shutil\n",
    "import random"
   ]
  },
  {
   "cell_type": "code",
   "execution_count": 7,
   "id": "7588cffc-9a12-43af-83ef-b8e76ca40b56",
   "metadata": {},
   "outputs": [
    {
     "name": "stdout",
     "output_type": "stream",
     "text": [
      "Data split is complete.\n"
     ]
    }
   ],
   "source": [
    "# Path to the Spectrogram folder\n",
    "spectrogram_folder = \"New_Spec\"\n",
    "\n",
    "# Paths to the new data directories\n",
    "train_data_dir = \"train_data\"\n",
    "val_data_dir = \"val_data\"\n",
    "test_data_dir = \"test_data\"\n",
    "\n",
    "# Percentage split\n",
    "train_split = 0.7\n",
    "val_split = 0.15\n",
    "test_split = 0.15\n",
    "\n",
    "# Create the new data directories\n",
    "os.makedirs(train_data_dir, exist_ok=True)\n",
    "os.makedirs(val_data_dir, exist_ok=True)\n",
    "os.makedirs(test_data_dir, exist_ok=True)\n",
    "\n",
    "# Iterate through the bird categories\n",
    "for category in os.listdir(spectrogram_folder):\n",
    "    category_path = os.path.join(spectrogram_folder, category)\n",
    "    if os.path.isdir(category_path):\n",
    "        images = os.listdir(category_path)\n",
    "        \n",
    "        # Only process categories with 10 or more images\n",
    "        if len(images) >= 10:\n",
    "            random.shuffle(images)\n",
    "    \n",
    "            num_images = len(images)\n",
    "            num_train = int(train_split * num_images)\n",
    "            num_val = int(val_split * num_images)\n",
    "    \n",
    "            train_images = images[:num_train]\n",
    "            val_images = images[num_train:num_train + num_val]\n",
    "            test_images = images[num_train + num_val:]\n",
    "    \n",
    "            for image in train_images:\n",
    "                if image == \".ipynb_checkpoints\":\n",
    "                    continue\n",
    "                src = os.path.join(category_path, image)\n",
    "                dst = os.path.join(train_data_dir, category, image)\n",
    "                os.makedirs(os.path.dirname(dst), exist_ok=True)\n",
    "                shutil.copy(src, dst)\n",
    "    \n",
    "            for image in val_images:\n",
    "                if image == \".ipynb_checkpoints\":\n",
    "                    continue\n",
    "                src = os.path.join(category_path, image)\n",
    "                dst = os.path.join(val_data_dir, category, image)\n",
    "                os.makedirs(os.path.dirname(dst), exist_ok=True)\n",
    "                shutil.copy(src, dst)\n",
    "    \n",
    "            for image in test_images:\n",
    "                if image == \".ipynb_checkpoints\":\n",
    "                    continue\n",
    "                src = os.path.join(category_path, image)\n",
    "                dst = os.path.join(test_data_dir, category, image)\n",
    "                os.makedirs(os.path.dirname(dst), exist_ok=True)\n",
    "                shutil.copy(src, dst)\n",
    "\n",
    "print(\"Data split is complete.\")"
   ]
  },
  {
   "cell_type": "code",
   "execution_count": null,
   "id": "97605ffd-f4b9-467b-8e17-182c55686c1c",
   "metadata": {},
   "outputs": [],
   "source": []
  }
 ],
 "metadata": {
  "kernelspec": {
   "display_name": "Python 3 (ipykernel)",
   "language": "python",
   "name": "python3"
  },
  "language_info": {
   "codemirror_mode": {
    "name": "ipython",
    "version": 3
   },
   "file_extension": ".py",
   "mimetype": "text/x-python",
   "name": "python",
   "nbconvert_exporter": "python",
   "pygments_lexer": "ipython3",
   "version": "3.11.0rc1"
  }
 },
 "nbformat": 4,
 "nbformat_minor": 5
}
